{
 "cells": [
  {
   "cell_type": "code",
   "execution_count": 1,
   "id": "fa8530b3",
   "metadata": {},
   "outputs": [],
   "source": [
    "#make the imports\n",
    "from bs4 import BeautifulSoup as bs\n",
    "import pandas as pd\n",
    "import requests\n",
    "import pymongo\n",
    "from splinter import Browser\n",
    "from webdriver_manager.chrome import ChromeDriverManager"
   ]
  },
  {
   "cell_type": "code",
   "execution_count": 2,
   "id": "0767ecc5",
   "metadata": {},
   "outputs": [
    {
     "name": "stderr",
     "output_type": "stream",
     "text": [
      "\n",
      "\n",
      "====== WebDriver manager ======\n",
      "Current google-chrome version is 93.0.4577\n",
      "Get LATEST driver version for 93.0.4577\n",
      "Driver [C:\\Users\\Dell\\.wdm\\drivers\\chromedriver\\win32\\93.0.4577.63\\chromedriver.exe] found in cache\n"
     ]
    }
   ],
   "source": [
    "#setup browser variable for Chrome, making sure splinter is setup and \n",
    "#updated\n",
    "executable_path = {'executable_path': ChromeDriverManager().install()}\n",
    "browser = Browser('chrome', **executable_path, headless=False)"
   ]
  },
  {
   "cell_type": "code",
   "execution_count": 3,
   "id": "1c6b35b5",
   "metadata": {},
   "outputs": [],
   "source": [
    "url = 'https://mars.nasa.gov/news/?page=0&per_page=40&order=publish_date+desc%2Ccreated_at+desc&search=&category=19%2C165%2C184%2C204&blank_scope=Latest'"
   ]
  },
  {
   "cell_type": "code",
   "execution_count": 4,
   "id": "f45c33d1",
   "metadata": {},
   "outputs": [],
   "source": [
    "#visit the url\n",
    "browser.visit(url)"
   ]
  },
  {
   "cell_type": "code",
   "execution_count": 12,
   "id": "cfcb6a45",
   "metadata": {},
   "outputs": [],
   "source": [
    "#after inspecting, get to the info for the latest article with soup\n",
    "html = browser.html\n",
    "soup = bs(html, 'html.parser')\n",
    "content_titles = soup.find_all('div', class_='content_title')\n",
    "#for some reason it says the first article is Mars Now, though it is\n",
    "#actually NASA's Mars Fleet Lies Low with Sun Between Earth and Red Planet\n",
    "#so I'll go deeper into content_titles to get that"
   ]
  },
  {
   "cell_type": "code",
   "execution_count": 13,
   "id": "d6f851c4",
   "metadata": {},
   "outputs": [
    {
     "name": "stdout",
     "output_type": "stream",
     "text": [
      "[<div class=\"content_title\">Mars Now</div>, <div class=\"content_title\"><a href=\"/news/9051/nasas-mars-fleet-lies-low-with-sun-between-earth-and-red-planet/\" target=\"_self\">NASA's Mars Fleet Lies Low with Sun Between Earth and Red Planet</a></div>, <div class=\"content_title\"><a href=\"/news/9048/nasas-perseverance-rover-cameras-capture-mars-like-never-before/\" target=\"_self\">NASA's Perseverance Rover Cameras Capture Mars Like Never Before</a></div>, <div class=\"content_title\"><a href=\"/news/9046/nasas-insight-finds-three-big-marsquakes-thanks-to-solar-panel-dusting/\" target=\"_self\">NASA's InSight Finds Three Big Marsquakes, Thanks to Solar-Panel Dusting</a></div>, <div class=\"content_title\"><a href=\"/news/9043/nasas-ingenuity-helicopter-captures-a-mars-rock-feature-in-3d/\" target=\"_self\">NASA's Ingenuity Helicopter Captures a Mars Rock Feature in 3D </a></div>, <div class=\"content_title\"><a href=\"/news/9041/take-a-3d-spin-on-mars-and-track-nasas-perseverance-rover/\" target=\"_self\">Take a 3D Spin on Mars and Track NASA's Perseverance Rover</a></div>, <div class=\"content_title\"><a href=\"/news/9040/justin-simon-shepherds-perseverance-through-first-phase-of-martian-rock-sampling/\" target=\"_self\">Justin Simon Shepherds Perseverance Through First Phase of Martian Rock Sampling  </a></div>, <div class=\"content_title\"><a href=\"/news/9039/nasa-confirms-thousands-of-massive-ancient-volcanic-eruptions-on-mars/\" target=\"_self\">NASA Confirms Thousands of Massive, Ancient Volcanic Eruptions on Mars </a></div>, <div class=\"content_title\"><a href=\"/news/9036/nasas-perseverance-rover-collects-puzzle-pieces-of-mars-history/\" target=\"_self\">NASA's Perseverance Rover Collects Puzzle Pieces of Mars' History</a></div>, <div class=\"content_title\"><a href=\"/news/9035/nasa-mars-mission-begins-a-new-chapter-of-science-with-a-new-leader/\" target=\"_self\">NASA Mars Mission Begins a New Chapter of Science With a New Leader</a></div>, <div class=\"content_title\"><a href=\"/news/9032/mars-perseverance-team-members-to-be-recognized-at-hispanic-heritage-awards/\" target=\"_self\">Mars Perseverance Team Members to Be Recognized at Hispanic Heritage Awards</a></div>, <div class=\"content_title\"><a href=\"/news/9030/nasa-to-host-briefing-on-successful-sample-collection-of-martian-rock/\" target=\"_self\">NASA to Host Briefing on Successful Sample Collection of Martian Rock</a></div>, <div class=\"content_title\"><a href=\"/news/9029/nasas-perseverance-rover-collects-first-mars-rock-sample/\" target=\"_self\">NASA's Perseverance Rover Collects First Mars Rock Sample</a></div>, <div class=\"content_title\"><a href=\"/news/9027/nasas-perseverance-rover-successfully-cores-its-first-rock/\" target=\"_self\">NASA's Perseverance Rover Successfully Cores Its First Rock</a></div>, <div class=\"content_title\"><a href=\"/news/9022/nasas-perseverance-plans-next-sample-attempt/\" target=\"_self\">NASA's Perseverance Plans Next Sample Attempt</a></div>, <div class=\"content_title\"><a href=\"/news/9021/my-favorite-martian-image-helicopter-sees-potential-rover-road-ahead/\" target=\"_self\">My Favorite Martian Image: Helicopter Sees Potential Rover Road Ahead</a></div>, <div class=\"content_title\"><a href=\"/news/9016/nasas-curiosity-mars-rover-explores-a-changing-landscape/\" target=\"_self\">NASA's Curiosity Mars Rover Explores a Changing Landscape</a></div>, <div class=\"content_title\"><a href=\"/news/9034/global-trio-of-orbiters-shows-small-dust-storms-help-dry-out-mars/\" target=\"_self\">Global Trio of Orbiters Shows Small Dust Storms Help Dry Out Mars</a></div>, <div class=\"content_title\"><a href=\"/news/9012/nasas-ingenuity-mars-helicopter-spots-perseverance-from-above/\" target=\"_self\">NASA's Ingenuity Mars Helicopter Spots Perseverance From Above</a></div>, <div class=\"content_title\"><a href=\"/news/9010/aviation-week-awards-nasas-ingenuity-mars-helicopter-with-laureate/\" target=\"_self\">Aviation Week Awards NASA's Ingenuity Mars Helicopter With Laureate </a></div>, <div class=\"content_title\"><a href=\"/news/9007/nasas-perseverance-team-assessing-first-mars-sampling-attempt/\" target=\"_self\">NASA's Perseverance Team Assessing First Mars Sampling Attempt</a></div>, <div class=\"content_title\"><a href=\"/news/9005/building-a-mars-treasure-chest-one-test-tube-at-a-time/\" target=\"_self\">Building a Mars Treasure Chest, One Test Tube at a Time</a></div>, <div class=\"content_title\"><a href=\"/news/9004/my-favorite-martian-image-helicopter-scouts-ridge-area-for-perseverance/\" target=\"_self\">My Favorite Martian Image: Helicopter Scouts Ridge Area for Perseverance</a></div>, <div class=\"content_title\"><a href=\"/news/9000/clays-not-water-are-likely-source-of-mars-lakes/\" target=\"_self\">Clays, Not Water, Are Likely Source of Mars 'Lakes'</a></div>, <div class=\"content_title\"><a href=\"/news/8996/nasas-insight-reveals-the-deep-interior-of-mars/\" target=\"_self\">NASA's InSight Reveals the Deep Interior of Mars</a></div>, <div class=\"content_title\"><a href=\"/news/8995/nasa-perseverance-mars-rover-to-acquire-first-sample/\" target=\"_self\">NASA Perseverance Mars Rover to Acquire First Sample</a></div>, <div class=\"content_title\"><a href=\"/news/8994/signs-of-life-on-mars-nasas-perseverance-rover-begins-the-hunt/\" target=\"_self\">Signs of Life on Mars? NASA's Perseverance Rover Begins the Hunt</a></div>, <div class=\"content_title\"><a href=\"/news/8992/journey-to-the-center-of-mars-with-the-insight-lander-team/\" target=\"_self\">Journey to the Center of Mars With the InSight Lander Team</a></div>, <div class=\"content_title\"><a href=\"/news/8990/nasa-to-brief-early-science-from-perseverance-mars-rover/\" target=\"_self\">NASA to Brief Early Science From Perseverance Mars Rover</a></div>, <div class=\"content_title\"><a href=\"/news/8987/nasas-mars-helicopter-reveals-intriguing-terrain-for-rover-team/\" target=\"_self\">NASA's Mars Helicopter Reveals Intriguing Terrain for Rover Team </a></div>, <div class=\"content_title\"><a href=\"/news/8985/nasas-curiosity-rover-finds-patches-of-rock-record-erased-revealing-clues/\" target=\"_self\">NASA's Curiosity Rover Finds Patches of Rock Record Erased, Revealing Clues</a></div>, <div class=\"content_title\"><a href=\"/news/8982/meet-the-open-source-software-powering-nasas-ingenuity-mars-helicopter/\" target=\"_self\">Meet the Open-Source Software Powering NASA's Ingenuity Mars Helicopter</a></div>, <div class=\"content_title\"><a href=\"/news/8980/nasas-self-driving-perseverance-mars-rover-takes-the-wheel/\" target=\"_self\">NASA's Self-Driving Perseverance Mars Rover 'Takes the Wheel'</a></div>, <div class=\"content_title\"><a href=\"/news/8976/first-you-see-it-then-you-dont-scientists-closer-to-explaining-mars-methane-mystery/\" target=\"_self\">First You See It, Then You Don't: Scientists Closer to Explaining Mars Methane Mystery</a></div>, <div class=\"content_title\"><a href=\"/news/8974/watch-and-hear-how-nasas-perseverance-rover-took-its-first-selfie/\" target=\"_self\">Watch (and Hear) How NASA's Perseverance Rover Took Its First Selfie</a></div>, <div class=\"content_title\"><a href=\"/news/8972/study-looks-more-closely-at-mars-underground-water-signals/\" target=\"_self\">Study Looks More Closely at Mars' Underground Water Signals</a></div>, <div class=\"content_title\"><a href=\"/news/8970/my-favorite-martian-image-jezero-craters-delta-scarp/\" target=\"_self\">My Favorite Martian Image: Jezero Crater's 'Delta Scarp'</a></div>, <div class=\"content_title\"><a href=\"/news/8966/nasas-ingenuity-mission-honored-by-the-space-foundation/\" target=\"_self\">NASA's Ingenuity Mission Honored by the Space Foundation</a></div>, <div class=\"content_title\"><a href=\"/news/8963/nasas-perseverance-rover-begins-its-first-science-campaign-on-mars/\" target=\"_self\">NASA's Perseverance Rover Begins Its First Science Campaign on Mars</a></div>, <div class=\"content_title\"><a href=\"/news/8959/nasas-insight-mars-lander-gets-a-power-boost/\" target=\"_self\">NASA's InSight Mars Lander Gets a Power Boost</a></div>, <div class=\"content_title\"><a href=\"/news/8956/nasas-curiosity-rover-captures-shining-clouds-on-mars/\" target=\"_self\">NASA's Curiosity Rover Captures Shining Clouds on Mars</a></div>, <div class=\"content_title\">\n",
      "<a href=\"/news/8972/study-looks-more-closely-at-mars-underground-water-signals/\">\n",
      "Study Looks More Closely at Mars' Underground Water Signals\n",
      "</a>\n",
      "</div>, <div class=\"content_title\">\n",
      "<a href=\"/news/8963/nasas-perseverance-rover-begins-its-first-science-campaign-on-mars/\">\n",
      "NASA's Perseverance Rover Begins Its First Science Campaign on Mars\n",
      "</a>\n",
      "</div>, <div class=\"content_title\">\n",
      "<a href=\"/news/9036/nasas-perseverance-rover-collects-puzzle-pieces-of-mars-history/\">\n",
      "NASA's Perseverance Rover Collects Puzzle Pieces of Mars' History\n",
      "</a>\n",
      "</div>, <div class=\"content_title\">\n",
      "<a href=\"/news/9030/nasa-to-host-briefing-on-successful-sample-collection-of-martian-rock/\">\n",
      "NASA to Host Briefing on Successful Sample Collection of Martian Rock\n",
      "</a>\n",
      "</div>, <div class=\"content_title\">\n",
      "<a href=\"/news/9007/nasas-perseverance-team-assessing-first-mars-sampling-attempt/\">\n",
      "NASA's Perseverance Team Assessing First Mars Sampling Attempt\n",
      "</a>\n",
      "</div>, <div class=\"content_title\">\n",
      "<a href=\"/news/8995/nasa-perseverance-mars-rover-to-acquire-first-sample/\">\n",
      "NASA Perseverance Mars Rover to Acquire First Sample\n",
      "</a>\n",
      "</div>, <div class=\"content_title\">\n",
      "<a href=\"/news/8972/study-looks-more-closely-at-mars-underground-water-signals/\">\n",
      "Study Looks More Closely at Mars' Underground Water Signals\n",
      "</a>\n",
      "</div>, <div class=\"content_title\">\n",
      "<a href=\"/news/8963/nasas-perseverance-rover-begins-its-first-science-campaign-on-mars/\">\n",
      "NASA's Perseverance Rover Begins Its First Science Campaign on Mars\n",
      "</a>\n",
      "</div>, <div class=\"content_title\">\n",
      "<a href=\"/news/9036/nasas-perseverance-rover-collects-puzzle-pieces-of-mars-history/\">\n",
      "NASA's Perseverance Rover Collects Puzzle Pieces of Mars' History\n",
      "</a>\n",
      "</div>, <div class=\"content_title\">\n",
      "<a href=\"/news/9030/nasa-to-host-briefing-on-successful-sample-collection-of-martian-rock/\">\n",
      "NASA to Host Briefing on Successful Sample Collection of Martian Rock\n",
      "</a>\n",
      "</div>]\n"
     ]
    }
   ],
   "source": [
    "print(latest)"
   ]
  },
  {
   "cell_type": "code",
   "execution_count": 16,
   "id": "23eea828",
   "metadata": {},
   "outputs": [
    {
     "data": {
      "text/plain": [
       "<div class=\"content_title\"><a href=\"/news/9051/nasas-mars-fleet-lies-low-with-sun-between-earth-and-red-planet/\" target=\"_self\">NASA's Mars Fleet Lies Low with Sun Between Earth and Red Planet</a></div>"
      ]
     },
     "execution_count": 16,
     "metadata": {},
     "output_type": "execute_result"
    }
   ],
   "source": [
    "#since I used find_all() I got a list back, and can index for the second\n",
    "#value, which I know is the article I'm look for from glancing at the site\n",
    "further = latest[1]\n",
    "further"
   ]
  },
  {
   "cell_type": "code",
   "execution_count": 17,
   "id": "66eee3bf",
   "metadata": {},
   "outputs": [
    {
     "data": {
      "text/plain": [
       "\"NASA's Mars Fleet Lies Low with Sun Between Earth and Red Planet\""
      ]
     },
     "execution_count": 17,
     "metadata": {},
     "output_type": "execute_result"
    }
   ],
   "source": [
    "#now get just the text for the title\n",
    "news_title = further.text\n",
    "news_title"
   ]
  },
  {
   "cell_type": "code",
   "execution_count": 21,
   "id": "8355962d",
   "metadata": {},
   "outputs": [
    {
     "name": "stdout",
     "output_type": "stream",
     "text": [
      "The missions will continue collecting data about the Red Planet, though engineers back on Earth will stop sending commands to them until mid-October.\n"
     ]
    }
   ],
   "source": [
    "#next go in and get the text for the description of the article\n",
    "news_p = soup.find('div', class_='article_teaser_body').text\n",
    "print(news_p)"
   ]
  },
  {
   "cell_type": "code",
   "execution_count": null,
   "id": "c1172f17",
   "metadata": {},
   "outputs": [],
   "source": []
  }
 ],
 "metadata": {
  "kernelspec": {
   "display_name": "Python 3",
   "language": "python",
   "name": "python3"
  },
  "language_info": {
   "codemirror_mode": {
    "name": "ipython",
    "version": 3
   },
   "file_extension": ".py",
   "mimetype": "text/x-python",
   "name": "python",
   "nbconvert_exporter": "python",
   "pygments_lexer": "ipython3",
   "version": "3.8.8"
  }
 },
 "nbformat": 4,
 "nbformat_minor": 5
}
