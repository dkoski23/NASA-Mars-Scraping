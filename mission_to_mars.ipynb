{
 "cells": [
  {
   "cell_type": "markdown",
   "id": "411cef91",
   "metadata": {},
   "source": [
    "## First Article Scraping"
   ]
  },
  {
   "cell_type": "code",
   "execution_count": 1,
   "id": "5674109c",
   "metadata": {},
   "outputs": [],
   "source": [
    "#make the imports\n",
    "from bs4 import BeautifulSoup as bs\n",
    "import pandas as pd\n",
    "import requests\n",
    "import pymongo\n",
    "from splinter import Browser\n",
    "from webdriver_manager.chrome import ChromeDriverManager"
   ]
  },
  {
   "cell_type": "code",
   "execution_count": 2,
   "id": "fe11164b",
   "metadata": {},
   "outputs": [
    {
     "name": "stderr",
     "output_type": "stream",
     "text": [
      "\n",
      "\n",
      "====== WebDriver manager ======\n",
      "Current google-chrome version is 93.0.4577\n",
      "Get LATEST driver version for 93.0.4577\n",
      "Driver [C:\\Users\\Dell\\.wdm\\drivers\\chromedriver\\win32\\93.0.4577.63\\chromedriver.exe] found in cache\n"
     ]
    }
   ],
   "source": [
    "#setup browser variable for Chrome, making sure splinter is setup and \n",
    "#updated\n",
    "executable_path = {'executable_path': ChromeDriverManager().install()}\n",
    "browser = Browser('chrome', **executable_path, headless=False)"
   ]
  },
  {
   "cell_type": "code",
   "execution_count": 3,
   "id": "5f891ffb",
   "metadata": {},
   "outputs": [],
   "source": [
    "url = 'https://mars.nasa.gov/news/?page=0&per_page=40&order=publish_date+desc%2Ccreated_at+desc&search=&category=19%2C165%2C184%2C204&blank_scope=Latest'"
   ]
  },
  {
   "cell_type": "code",
   "execution_count": 4,
   "id": "97116814",
   "metadata": {},
   "outputs": [],
   "source": [
    "#visit the url\n",
    "browser.visit(url)"
   ]
  },
  {
   "cell_type": "code",
   "execution_count": 5,
   "id": "615c868c",
   "metadata": {},
   "outputs": [],
   "source": [
    "#after inspecting, get to the info for the latest article with soup\n",
    "html = browser.html\n",
    "soup = bs(html, 'html.parser')\n",
    "content_titles = soup.find_all('div', class_='content_title')\n",
    "#for some reason it says the first article is Mars Now, though it is\n",
    "#actually NASA's Mars Fleet Lies Low with Sun Between Earth and Red Planet\n",
    "#so I'll go deeper into content_titles to get that"
   ]
  },
  {
   "cell_type": "code",
   "execution_count": null,
   "id": "8b25544f",
   "metadata": {},
   "outputs": [],
   "source": []
  },
  {
   "cell_type": "code",
   "execution_count": 6,
   "id": "5f27fc47",
   "metadata": {},
   "outputs": [
    {
     "data": {
      "text/plain": [
       "<div class=\"content_title\"><a href=\"/news/9051/nasas-mars-fleet-lies-low-with-sun-between-earth-and-red-planet/\" target=\"_self\">NASA's Mars Fleet Lies Low with Sun Between Earth and Red Planet</a></div>"
      ]
     },
     "execution_count": 6,
     "metadata": {},
     "output_type": "execute_result"
    }
   ],
   "source": [
    "#since I used find_all() I got a list back, and can index for the second\n",
    "#value, which I know is the article I'm look for from glancing at the site\n",
    "further = content_titles[1]\n",
    "further"
   ]
  },
  {
   "cell_type": "code",
   "execution_count": 7,
   "id": "9d8b1c2f",
   "metadata": {},
   "outputs": [
    {
     "data": {
      "text/plain": [
       "\"NASA's Mars Fleet Lies Low with Sun Between Earth and Red Planet\""
      ]
     },
     "execution_count": 7,
     "metadata": {},
     "output_type": "execute_result"
    }
   ],
   "source": [
    "#now get just the text for the title\n",
    "news_title = further.text\n",
    "news_title"
   ]
  },
  {
   "cell_type": "code",
   "execution_count": 8,
   "id": "d28f6d94",
   "metadata": {},
   "outputs": [
    {
     "name": "stdout",
     "output_type": "stream",
     "text": [
      "The missions will continue collecting data about the Red Planet, though engineers back on Earth will stop sending commands to them until mid-October.\n"
     ]
    }
   ],
   "source": [
    "#next go in and get the text for the description of the article\n",
    "news_p = soup.find('div', class_='article_teaser_body').text\n",
    "print(news_p)"
   ]
  },
  {
   "cell_type": "markdown",
   "id": "130ca67e",
   "metadata": {},
   "source": [
    "## Featured Image Scraping"
   ]
  },
  {
   "cell_type": "code",
   "execution_count": 9,
   "id": "48330eb1",
   "metadata": {},
   "outputs": [],
   "source": [
    "#visit link in assignment and get the url for the featured image\n",
    "image_url = \"https://data-class-jpl-space.s3.amazonaws.com/JPL_Space/index.html\""
   ]
  },
  {
   "cell_type": "code",
   "execution_count": 10,
   "id": "7fe2ebd4",
   "metadata": {},
   "outputs": [],
   "source": [
    "#visit in the notebook\n",
    "browser.visit(image_url)"
   ]
  },
  {
   "cell_type": "code",
   "execution_count": 11,
   "id": "a2b755cf",
   "metadata": {},
   "outputs": [],
   "source": [
    "#follow same setup steps in previous section for the button\n",
    "html = browser.html\n",
    "soup = bs(html, 'html.parser')"
   ]
  },
  {
   "cell_type": "code",
   "execution_count": 12,
   "id": "19c051bd",
   "metadata": {},
   "outputs": [
    {
     "data": {
      "text/plain": [
       "'image/featured/mars3.jpg'"
      ]
     },
     "execution_count": 12,
     "metadata": {},
     "output_type": "execute_result"
    }
   ],
   "source": [
    "#this is from not working from some reason, I will try examining \n",
    "#the button itself. It gives mars1 when it should return mars 3\n",
    "\n",
    "#it worked when restarting the kernel. NASA changed the image while\n",
    "#I was working, which confused me\n",
    "image_full = soup.find('img', class_=\"headerimage fade-in\")['src']\n",
    "image_full"
   ]
  },
  {
   "cell_type": "code",
   "execution_count": 14,
   "id": "760cd80d",
   "metadata": {},
   "outputs": [],
   "source": [
    "full_image_url = \"https://data-class-jpl-space.s3.amazonaws.com/JPL_Space/\" + image_full"
   ]
  },
  {
   "cell_type": "code",
   "execution_count": 16,
   "id": "96386cbf",
   "metadata": {},
   "outputs": [
    {
     "name": "stdout",
     "output_type": "stream",
     "text": [
      "https://data-class-jpl-space.s3.amazonaws.com/JPL_Space/image/featured/mars3.jpg\n"
     ]
    }
   ],
   "source": [
    "print(full_image_url)"
   ]
  },
  {
   "cell_type": "code",
   "execution_count": null,
   "id": "1f9dac3d",
   "metadata": {},
   "outputs": [],
   "source": []
  }
 ],
 "metadata": {
  "kernelspec": {
   "display_name": "Python 3",
   "language": "python",
   "name": "python3"
  },
  "language_info": {
   "codemirror_mode": {
    "name": "ipython",
    "version": 3
   },
   "file_extension": ".py",
   "mimetype": "text/x-python",
   "name": "python",
   "nbconvert_exporter": "python",
   "pygments_lexer": "ipython3",
   "version": "3.8.8"
  }
 },
 "nbformat": 4,
 "nbformat_minor": 5
}
